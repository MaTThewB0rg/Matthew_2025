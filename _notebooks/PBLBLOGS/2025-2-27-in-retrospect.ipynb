{
 "cells": [
  {
   "cell_type": "code",
   "execution_count": null,
   "metadata": {
    "vscode": {
     "languageId": "yaml"
    }
   },
   "outputs": [],
   "source": [
    "---\n",
    "comments: true\n",
    "layout: post\n",
    "title: In Retrospect\n",
    "description: In retrospect\n",
    "author: Matthew Borg\n",
    "permalink: /_notebooks/PBLBlogs/2025-2-27-in-retrospect.ipynb/\n",
    "categories: [PBL Classes]\n",
    "---"
   ]
  },
  {
   "cell_type": "markdown",
   "metadata": {},
   "source": [
    "# Retrospect\n",
    "In this blog I will be talking about the Performing Demos, receiving feedback Live reviews, and N@tM reflection I have done throughout my time here in Computer Science."
   ]
  },
  {
   "cell_type": "markdown",
   "metadata": {},
   "source": [
    "# Live reviews:\n",
    "I first live reviewed with my team during the time we had to make lessons to plan on what we would do and make. I then later on had to do a live review to fix some stuff on my lesson, because it was in python, and we were supposed to teach Javascript. Second tri, I wasn't able to do any live reviews, mostly because the schedules of my teamates and my own dont line up well, so while my teamates are free, im doing something like fencing practice."
   ]
  },
  {
   "cell_type": "markdown",
   "metadata": {},
   "source": [
    "# Demos\n",
    "Besides the N&TM game demos, I didnt do as much. I of course demo my game when I needed help with some code, and I also gave demos when we were doing checkpoints and live reviews. Working on my games throughout the 2 trimesters was a lot of work and stress, but it all paid off when I was able to demo a good game."
   ]
  },
  {
   "cell_type": "markdown",
   "metadata": {},
   "source": [
    "# N&TM Reflection\n",
    "Night at the museum was a great was to branchout to other coders in different classes and to demonstate what you learned code-wise. I feel like I did decent in those catergories, I would like to do more but we dont get infinite time in life and thats how it is. I was able to get a good ammout of feedback from people during my demos and I was able to look at a good ammount of other people's work and to reflect on their code and my own."
   ]
  },
  {
   "cell_type": "markdown",
   "metadata": {},
   "source": [
    "# Conclusion\n",
    "I think that over the 24 weeks ive been here in computer science class, I have improved exponentially in my coding skills. Before, if I would be shown the code that we have to do today, I probably would have been amazed and/or confused, but now I can actually somewhat understand code and write code. \n",
    "\n",
    "Even though I still have a lot of ideas, questions, and problems with code, I feel like I have done well over the 24 weeks of CompSci and I feel like I have learned some valuable skills that I can use for the rest of my life depending on the path I take with my life."
   ]
  }
 ],
 "metadata": {
  "language_info": {
   "name": "python"
  }
 },
 "nbformat": 4,
 "nbformat_minor": 2
}
