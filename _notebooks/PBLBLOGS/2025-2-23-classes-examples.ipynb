{
 "cells": [
  {
   "cell_type": "code",
   "execution_count": null,
   "metadata": {
    "vscode": {
     "languageId": "yaml"
    }
   },
   "outputs": [],
   "source": [
    "---\n",
    "comments: true\n",
    "layout: post\n",
    "title: Classes in-game\n",
    "description: Classes in game\n",
    "author: Matthew Borg\n",
    "permalink: /_notebooks/PBLBlogs/2025-2-23-classes-examples.ipynb/\n",
    "categories: [PBL Classes]\n",
    "---"
   ]
  },
  {
   "cell_type": "markdown",
   "metadata": {},
   "source": [
    "In this blog, I will be using code from my adventureGame to explain and expand on various Classes in code such as instantiating objects, methods, using objects, calling methods, return values, and parameters"
   ]
  },
  {
   "cell_type": "markdown",
   "metadata": {},
   "source": [
    "# Code from GameControl.js"
   ]
  },
  {
   "cell_type": "code",
   "execution_count": null,
   "metadata": {
    "vscode": {
     "languageId": "javascript"
    }
   },
   "outputs": [],
   "source": [
    "const GameControl = {\n",
    "    start: function(path) {\n",
    "        GameEnv.create();\n",
    "        this.levelClasses = [GameLevelDesert, GameLevelWater];\n",
    "        this.currentLevelIndex = 0;\n",
    "        this.path = path;\n",
    "        this.addExitKeyListener();\n",
    "        this.loadLevel();\n",
    "    },\n",
    "\n",
    "    loadLevel: function() {\n",
    "        if (this.currentLevelIndex >= this.levelClasses.length) {\n",
    "            this.stopTimer();\n",
    "            return;\n",
    "        }\n",
    "        GameEnv.continueLevel = true;\n",
    "        GameEnv.gameObjects = [];\n",
    "        this.currentPass = 0;\n",
    "        const LevelClass = this.levelClasses[this.currentLevelIndex];\n",
    "        const levelInstance = new LevelClass(this.path);\n",
    "        this.loadLevelObjects(levelInstance);\n",
    "    },\n",
    "\n",
    "    loadLevelObjects: function(gameInstance) {\n",
    "        this.initStatsUI();\n",
    "        for (let object of gameInstance.objects) {\n",
    "            if (!object.data) object.data = {};\n",
    "            new object.class(object.data);\n",
    "        }\n",
    "        this.gameLoop();\n",
    "        getStats();\n",
    "    },\n",
    "\n",
    "    gameLoop: function() {\n",
    "        if (!GameEnv.continueLevel) {\n",
    "            this.handleLevelEnd();\n",
    "            return;\n",
    "        }\n",
    "        GameEnv.clear();\n",
    "        for (let object of GameEnv.gameObjects) {\n",
    "            object.update();\n",
    "        }\n",
    "        this.handleLevelStart();\n",
    "        requestAnimationFrame(this.gameLoop.bind(this));\n",
    "    }\n",
    "};"
   ]
  },
  {
   "cell_type": "markdown",
   "metadata": {},
   "source": [
    "# Breakdown"
   ]
  },
  {
   "cell_type": "markdown",
   "metadata": {},
   "source": [
    "The code above can be a lot to read, but if you dont want to read all of the code here is a breakdown on the classes that can be found in the code"
   ]
  },
  {
   "cell_type": "markdown",
   "metadata": {},
   "source": [
    "## Instantiating Objects:\n",
    "\n",
    "new LevelClass(this.path): In the loadLevel method, the LevelClass (which is one of GameLevelDesert or GameLevelWater) is instantiated using new LevelClass(this.path). This creates an instance of a level with the path passed as an argument.\n",
    "\n",
    "## Methods:\n",
    "\n",
    "Methods are functions that are associated with an object or class. Methods define the behavior of an object or class and typically operate on the data contained within the object or class. Methods are called on objects or classes to perform specific actions.\n",
    "Esample from code: start(path), This method is the main starting point, which initializes various components for the game. It calls several other methods: GameEnv.create(), this.addExitKeyListener(), and this.loadLevel().\n",
    "## Using Objects:\n",
    "\n",
    "## Calling Methods:\n",
    "\n",
    "\n",
    "## Return Values:\n",
    "\n",
    "## Parameters:\n",
    "\n"
   ]
  }
 ],
 "metadata": {
  "language_info": {
   "name": "python"
  }
 },
 "nbformat": 4,
 "nbformat_minor": 2
}
