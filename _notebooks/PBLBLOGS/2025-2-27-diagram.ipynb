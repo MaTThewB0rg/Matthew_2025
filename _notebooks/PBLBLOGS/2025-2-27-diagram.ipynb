{
 "cells": [
  {
   "cell_type": "code",
   "execution_count": null,
   "metadata": {
    "vscode": {
     "languageId": "yaml"
    }
   },
   "outputs": [],
   "source": [
    "---\n",
    "comments: true\n",
    "layout: post\n",
    "title: Diagram \n",
    "description: Diagram rundown\n",
    "author: Matthew Borg\n",
    "permalink: /_notebooks/PBLBlogs/2025-2-27-diagram.ipynb/\n",
    "categories: [PBL Classes]\n",
    "---"
   ]
  },
  {
   "cell_type": "markdown",
   "metadata": {},
   "source": [
    "In thsis blog, I will show my Diagram on classes and explain it"
   ]
  },
  {
   "cell_type": "markdown",
   "metadata": {},
   "source": [
    "![Drawio Image](/_notebooks/PBLBLOGS/.drawio.png/)"
   ]
  },
  {
   "cell_type": "markdown",
   "metadata": {},
   "source": [
    "This diagram is a semi-accurate k on the different classes present throughout the JavaScript files needed in the game. The family-tree like structure(DOM) shows how the classes are inherited and passed down to different classes. This also shows what files need what, because as you can see there are arrows conecting the files together. For example, Player and NPC need Character, and GameLevel and Background need GameObject, and Gamecontrol needs GameLevel, but GameLevel"
   ]
  }
 ],
 "metadata": {
  "language_info": {
   "name": "python"
  }
 },
 "nbformat": 4,
 "nbformat_minor": 2
}
