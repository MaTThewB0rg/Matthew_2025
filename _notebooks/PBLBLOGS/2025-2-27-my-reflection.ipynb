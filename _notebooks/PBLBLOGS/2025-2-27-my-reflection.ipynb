{
 "cells": [
  {
   "cell_type": "code",
   "execution_count": null,
   "metadata": {
    "vscode": {
     "languageId": "yaml"
    }
   },
   "outputs": [],
   "source": [
    "---\n",
    "comments: true\n",
    "layout: post\n",
    "title: My reflection\n",
    "description: My self reflection\n",
    "author: Matthew Borg\n",
    "permalink: /_notebooks/PBLBlogs/2025-2-27-my-reflection.ipynb/\n",
    "categories: [PBL Classes]\n",
    "---"
   ]
  },
  {
   "cell_type": "markdown",
   "metadata": {},
   "source": [
    "In this blog I will be reflecting on my journey in comp sci throughout the 2 trimesters I was here and what next in my coding journey"
   ]
  },
  {
   "cell_type": "markdown",
   "metadata": {},
   "source": [
    "# Reflection\n",
    "Nearing the end of my Compsci journey in High School makes me realize how much work and time I have put into this class.\n",
    "\n",
    "Some strengths are that I can understand given subjects somewhat fast, and I have a will to code, but its kind of on and off. I also can plan what I want to do pretty well, and I can follow up on it.\n",
    "\n",
    "My weaknesses are that im not much of a coder compared to others. I try my hardest most the times, but it sometimes feels like I have done nothing or im just going back in steps. I want to learn more about coding and get better, but this feeling is on and off. I also tend to have big goals I want to achieve, and when I cant do it all I feel dissapointed. These factors are all a by-product of my experience with coding."
   ]
  },
  {
   "cell_type": "markdown",
   "metadata": {},
   "source": [
    "# Whats next in my journey\n",
    "To be completly honest, I dont think comp sci is the best class for me. I find it interesting and sometimes fun and exiting, but its time to time. Sometimes I hate it, sometimes I love it, its a love-hate relationship.\n",
    "\n",
    "I feel that comp sci and coding in general is a very useful skill I was lucky to improve on through the two trimesters in this class. I can deffinently use the skills I learded in comp sci in the future for a possible college course or a job and career.\n",
    "\n",
    "To summarize what I said, even though I may not want to do any more comp sci now, who knows? I may in the future want to do it again, and with the skills I learned and maybe with other help such as my dad, I may be succesful in coding in the future, but for now I feel like its not necesarily the best for me at the moment. "
   ]
  }
 ],
 "metadata": {
  "language_info": {
   "name": "python"
  }
 },
 "nbformat": 4,
 "nbformat_minor": 2
}
