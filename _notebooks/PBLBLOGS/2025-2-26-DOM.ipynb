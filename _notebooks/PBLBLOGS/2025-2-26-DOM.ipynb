{
 "cells": [
  {
   "cell_type": "code",
   "execution_count": null,
   "metadata": {
    "vscode": {
     "languageId": "yaml"
    }
   },
   "outputs": [],
   "source": [
    "---\n",
    "comments: true\n",
    "layout: post\n",
    "title: Classes in-game\n",
    "description: Classes in game\n",
    "author: Matthew Borg\n",
    "permalink: /_notebooks/PBLBlogs/2025-2-23-classes-examples.ipynb/\n",
    "categories: [PBL Classes]\n",
    "---"
   ]
  },
  {
   "cell_type": "markdown",
   "metadata": {},
   "source": [
    "# DOM Basic Rundown"
   ]
  },
  {
   "cell_type": "markdown",
   "metadata": {},
   "source": [
    "In this blog I will briefly describe and rundown aspects of DOM, aka Documentation Object Model"
   ]
  },
  {
   "cell_type": "markdown",
   "metadata": {},
   "source": [
    "The DOM (Document Object Model) represents an HTML document as a tree structure, where each part of the document, like elements, attributes, and text, is a node. The root of the tree is the document object.\n",
    "\n",
    "Node: The basic unit in the DOM (includes elements, text, and attributes).\n",
    "Element: A type of node that represents an HTML element (like div).\n",
    "The DOM allows you to access and modify elements using methods like *document.getElementById()*, *createElement()*, and *removeObject()*. You can also handle events (e.g., clicks or form submissions) by adding event listeners to elements.\n",
    "\n",
    "In summary, the DOM helps you interact with and change web pages dynamically, making them more interactive and responsive."
   ]
  },
  {
   "cell_type": "markdown",
   "metadata": {},
   "source": [
    "# Key Concepts of the DOM:\n",
    "Document: The entire HTML or XML document.\n",
    "\n",
    "Element: Each HTML or XML tag in the document is represented as an element in the DOM tree.\n",
    "\n",
    "Node: Every element, attribute, and piece of text in the document is a node in the DOM tree.\n",
    "\n",
    "Attributes: Properties of elements, such as id, class, src, etc.\n",
    "\n",
    "Methods: Functions that can be called on DOM objects to manipulate the document, such as getElementById, appendChild, removeChild, etc.\n",
    "\n",
    "Events: Actions that occur in the document, such as clicks, key presses, and loads, which can be handled using event listeners."
   ]
  }
 ],
 "metadata": {
  "language_info": {
   "name": "python"
  }
 },
 "nbformat": 4,
 "nbformat_minor": 2
}
