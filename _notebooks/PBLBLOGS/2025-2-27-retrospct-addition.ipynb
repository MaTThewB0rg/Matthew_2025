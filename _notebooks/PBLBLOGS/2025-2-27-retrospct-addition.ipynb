{
 "cells": [
  {
   "cell_type": "code",
   "execution_count": null,
   "metadata": {
    "vscode": {
     "languageId": "yaml"
    }
   },
   "outputs": [],
   "source": [
    "---\n",
    "comments: true\n",
    "layout: post\n",
    "title: Retrospect Ideas\n",
    "description: Retrospect Ideas I would like to do\n",
    "author: Matthew Borg\n",
    "permalink: /_notebooks/PBLBlogs/2025-2-27-retrospect-addition.ipynb/\n",
    "categories: [PBL Classes]\n",
    "---"
   ]
  },
  {
   "cell_type": "markdown",
   "metadata": {},
   "source": [
    "# Add ons\n",
    "When I first was assigned the Adventure game project, I was kind of dumbfounded on ideas, but now that I have more of a understanding of the game, I have came up with some ideas to make the game better and possible more fun for the player."
   ]
  },
  {
   "cell_type": "markdown",
   "metadata": {},
   "source": [
    "# Collectible defuser\n",
    "I would like to add a collectible \"defuser\" to the game that you have to collect and give to the designated npc to plant it. I based this idea on a game I play called Rainbow Six Siege. It includes shooting so I wont get much into detail, but the main idea is to plant a defuser to defuse one of two bomb sites in the map. Defenders get gadgets to help ward off the attackers trying to defuse, and attackers get utility to also ward off and kill off the defenders and either kill them all or get defuse done in time. "
   ]
  },
  {
   "cell_type": "markdown",
   "metadata": {},
   "source": [
    "# Reapearing and killable NPCs\n",
    "To better make the fighting experience better, I would like to add \"defenders\" that appear randomly in the map that try to \"defuse the bomb\", or collide with the defuser, which could be its own NPC or collectable, for 7 seconds before sucessfully remove the defuse and making the player loose."
   ]
  },
  {
   "cell_type": "markdown",
   "metadata": {},
   "source": [
    "# Fighting\n",
    "I would also like to add a fighting mode, where if your in a radius of a enemy NPC sprite, you can fight them with shooting projectiles like space invader or dodge their projectiles they lauch at you, just like in the real game"
   ]
  },
  {
   "cell_type": "markdown",
   "metadata": {},
   "source": [
    "All of these are just ideas that even after this tri I might dabble on, meaning that even if I stop my comp sci journey here, I may want to add these things to the game for fun."
   ]
  }
 ],
 "metadata": {
  "language_info": {
   "name": "python"
  }
 },
 "nbformat": 4,
 "nbformat_minor": 2
}
