{
 "cells": [
  {
   "cell_type": "code",
   "execution_count": null,
   "metadata": {
    "vscode": {
     "languageId": "yaml"
    }
   },
   "outputs": [],
   "source": [
    "---\n",
    "comments: true\n",
    "layout: post\n",
    "title: Software Development Cycle\n",
    "description: Software Development Cycle\n",
    "author: Matthew Borg\n",
    "permalink: /_notebooks/PBLBlogs/2025-2-26-software-development-cycle.ipynb/\n",
    "categories: [PBL Classes]\n",
    "---"
   ]
  },
  {
   "cell_type": "markdown",
   "metadata": {},
   "source": [
    "# Software Development Cycle Rundown"
   ]
  },
  {
   "cell_type": "markdown",
   "metadata": {},
   "source": [
    "In Software Development, there is a cycle of things you have to be good at and do to be able to be sucessful. Below are the things and their defenitions in code."
   ]
  },
  {
   "cell_type": "markdown",
   "metadata": {},
   "source": [
    "# Software Development Cycle\n",
    "\n",
    "### Source Control\n",
    "Source control, also known as version control, is the practice of tracking and managing changes to code. It allows multiple developers to collaborate on a project, keep track of changes, and revert to previous versions if necessary. \n",
    "\n",
    "### Forking\n",
    "Forking is the process of creating a personal copy of someone else's project. This is commonly used in open-source projects where developers can fork a repository, make changes, and then submit those changes back to the original project via a pull request.\n",
    "\n",
    "### Branching\n",
    "Branching allows developers to create a separate line of development within a repository. This is useful for working on new features or bug fixes without affecting the main codebase. Once the work is complete, the branch can be merged back into the main branch.\n",
    "\n",
    "### Building\n",
    "Building is the process of converting source code into executable code. This often involves compiling the code, linking libraries, and packaging the software.\n",
    "\n"
   ]
  }
 ],
 "metadata": {
  "language_info": {
   "name": "python"
  }
 },
 "nbformat": 4,
 "nbformat_minor": 2
}
