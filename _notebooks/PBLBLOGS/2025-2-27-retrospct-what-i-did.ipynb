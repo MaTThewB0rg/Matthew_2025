{
 "cells": [
  {
   "cell_type": "code",
   "execution_count": null,
   "metadata": {
    "vscode": {
     "languageId": "yaml"
    }
   },
   "outputs": [],
   "source": [
    "---\n",
    "comments: true\n",
    "layout: post\n",
    "title: Retrospect: What I did\n",
    "description: Retrospect of what I did.\n",
    "author: Matthew Borg\n",
    "permalink: /_notebooks/PBLBlogs/2025-2-27-retrospect-what-i-did.ipynb/\n",
    "categories: [PBL Classes]\n",
    "---"
   ]
  },
  {
   "cell_type": "markdown",
   "metadata": {},
   "source": [
    "In this blog I will be stating some additions and changes to the game that I made throughout this tri that dont include the basic sprite, background, and NPC position changes."
   ]
  },
  {
   "cell_type": "markdown",
   "metadata": {},
   "source": [
    "# Movement speed\n",
    "In the following code, I changed the player movement speed. I did this because I noticed that the plaer would move inconsistent and sometimes move faster down or up compared to moving left or right. I fixed this by setting a speed multiplier for up and down so it has a set speed that can be controlled. The first time I changed and sort of fixed it I got the player to move smooth, but it was very slow. I then changed it to the code I have now, which is exponentially better."
   ]
  },
  {
   "cell_type": "code",
   "execution_count": null,
   "metadata": {
    "vscode": {
     "languageId": "javascript"
    }
   },
   "outputs": [],
   "source": [
    " handleKeyDown({ keyCode }) {\n",
    "        const speedMultiplier = 2.5\n",
    "        switch (keyCode) {\n",
    "            case 87: // 'W' key\n",
    "                this.velocity.y = -this.yVelocity * speedMultiplier * 2.5; // extra multiplier is temporary fix\n",
    "                this.direction = 'up';\n",
    "                break;\n",
    "            case 65: // 'A' key\n",
    "                this.velocity.x = -this.xVelocity * speedMultiplier; // Set velocity to a fixed value\n",
    "                this.direction = 'left';\n",
    "                break;\n",
    "            case 83: // 'S' key\n",
    "                this.velocity.y = this.yVelocity * speedMultiplier * 2.5; // Set velocity to a fixed value\n",
    "                this.direction = 'down';\n",
    "                break;\n",
    "            case 68: // 'D' key\n",
    "                this.velocity.x = this.xVelocity * speedMultiplier; // Set velocity to a fixed value\n",
    "                this.direction = 'right';\n",
    "                break;\n",
    "        }    \n",
    "    }"
   ]
  },
  {
   "cell_type": "markdown",
   "metadata": {},
   "source": [
    "# New NPC\n",
    "I added a new NPC to the second level. It has basically the same code as the other NPCs, but I had to make a new class npc for it to work, otherwise it would breka my game or not pop up on the screen entirely."
   ]
  },
  {
   "cell_type": "code",
   "execution_count": null,
   "metadata": {
    "vscode": {
     "languageId": "javascript"
    }
   },
   "outputs": [],
   "source": [
    " // NPC Data for Byte Solder (Smaller Version)\n",
    " const sprite_src_soldier = path + \"/images/gamify/classsoldier.png\"; // be sure to include the path\n",
    " const sprite_data_soldier = {\n",
    "     id: 'Soldier',\n",
    "     greeting: \"Hello! I am a Class Soldier, I am very happy to spend some Class knowledge with you, but we have to hold off site from those pesky Java soldiers!\",\n",
    "     src: sprite_src_soldier,\n",
    "     SCALE_FACTOR: 10,  // Adjust this based on your scaling needs\n",
    "     ANIMATION_RATE: 40,\n",
    "     pixels: {height: 204, width: 798},\n",
    "     INIT_POSITION: { x: (width / 2), y: (height / 2)},\n",
    "     orientation: {rows: 1, columns: 4 },\n",
    "     down: {row: 0, start: 0, columns: 2 },  // This is the stationary npc, down is default \n",
    "     hitbox: { widthPercentage: 0.1, heightPercentage: 0.2 },\n",
    " // Linux command quiz\n",
    " quiz: { \n",
    "   title: \"Jupyter Notebook Command Quiz\",\n",
    "   questions: [\n",
    "     \"Which keyword is used to define a class in Java?\\n1. define\\n2. class\\n3. Class\\n4. struct\",\n",
    "     \"Which data type is used to store a single character in Java?\\n1. String\\n2. char\\n3. Character\\n4. ch\",\n",
    "     \"What is the default value of an int variable in Java?\\n1. 0\\n2. null\\n3. undefined\\n4. -1\",\n",
    "     \"Which of these is NOT a Java access modifier?\\n1. public\\n2. private\\n3. protected\\n4. external\",\n",
    "     \"What is the purpose of the 'final' keyword in Java?\\n1. It defines a constant variable\\n2. It prevents method overriding\\n3. It prevents class inheritance\\n4. All of the above\",\n",
    "     \"Which Java loop is guaranteed to execute at least once?\\n1. for loop\\n2. while loop\\n3. do-while loop\\n4. foreach loop\",\n",
    "     \"What is the parent class of all Java classes?\\n1. Object\\n2. BaseClass\\n3. Root\\n4. Core\",\n",
    "     \"How do you correctly create a new object in Java?\\n1. Object obj = Object();\\n2. Object obj = new Object();\\n3. Object obj = new();\\n4. new Object obj;\",\n",
    "     \"Which Java keyword is used to handle exceptions?\\n1. throw\\n2. try\\n3. error\\n4. exception\",\n",
    "     \"Which Java collection allows key-value pairs?\\n1. ArrayList\\n2. HashMap\\n3. HashSet\\n4. LinkedList\"\n",
    "   ] \n",
    " }\n",
    "};\n",
    "\n",
    " // List of objects definitions for this level\n",
    " this.objects = [\n",
    "   { class: Background, data: image_data_water },\n",
    "   { class: Player, data: sprite_data_octopus },\n",
    "   { class: Npc, data: sprite_data_nomad },\n",
    "   { class: Npc, data: sprite_data_soldier },\n",
    " ];"
   ]
  }
 ],
 "metadata": {
  "language_info": {
   "name": "python"
  }
 },
 "nbformat": 4,
 "nbformat_minor": 2
}
