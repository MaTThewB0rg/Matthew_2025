{
 "cells": [
  {
   "cell_type": "code",
   "execution_count": null,
   "metadata": {
    "vscode": {
     "languageId": "yaml"
    }
   },
   "outputs": [],
   "source": [
    "---\n",
    "comments: true\n",
    "layout: post\n",
    "title: Software Development in groups\n",
    "description: Software Development in groups\n",
    "author: Matthew Borg\n",
    "permalink: /_notebooks/PBLBlogs/2025-2-26-software-development-group.ipynb/\n",
    "categories: [PBL Classes]\n",
    "---"
   ]
  },
  {
   "cell_type": "markdown",
   "metadata": {},
   "source": [
    "# Software Development in Groups\n",
    "\n",
    "Below are some basic actions that are used in Software Development with groups. Developing code with a group of people usually means having a shared reposatory or using someone elses repo, but there are steps in the development of code in groups that make it effective and on point."
   ]
  },
  {
   "cell_type": "markdown",
   "metadata": {},
   "source": [
    "### Testing and Verification\n",
    "Testing and verification involve checking the software to ensure it works as expected. This can include unit tests, integration tests, and system tests.\n",
    "\n",
    "Testing is the process of checking a system or its parts to see if it meets the required standards. It includes running the software to find any problems and make sure it works correctly.\n",
    "\n",
    " Verification is the process of making sure the software meets the requirements and is error-free. It involves checking and reviewing the software to confirm it’s built properly.\n",
    "\n",
    "### Pull Requests\n",
    "A pull request is a method of submitting contributions to a project. When someone has completed work on a branch, they can create a pull request to merge their changes into the main branch. The pull request is reviewed by other people before being approved and merged. People usually do pull requests if they are working and coding with a group of people.\n",
    "\n",
    "### Merging\n",
    "Merging is the process of integrating changes from one branch into another. This is typically done after a pull request has been reviewed and approved. Merging is used to intergrate changes, but sometimes it can result in conflicts if the same parts of the code have been modified in different ways, which need to be resolved manually.\n",
    "\n",
    "You can merge the branch with *git checkout main*\n",
    "\n",
    "### Deployment\n",
    "Deployment is the process of releasing software to a production environment where it can be used by end-users. This can involve copying files to servers, configuring environments, and running deployment scripts. Continuous deployment practices aim to automate this process to ensure that new features and fixes are delivered quickly and reliably."
   ]
  },
  {
   "cell_type": "markdown",
   "metadata": {},
   "source": [
    "All these actions are very important steps in coding in a group, because these are the fundamentals of coding on vscode and coding in general."
   ]
  }
 ],
 "metadata": {
  "language_info": {
   "name": "python"
  }
 },
 "nbformat": 4,
 "nbformat_minor": 2
}
