{
 "cells": [
  {
   "cell_type": "code",
   "execution_count": null,
   "metadata": {
    "vscode": {
     "languageId": "yaml"
    }
   },
   "outputs": [],
   "source": [
    "---\n",
    "layout: post\n",
    "title: Adventure Game Ideation\n",
    "description: Ideation for Adventure Game\n",
    "comments: true\n",
    "---"
   ]
  },
  {
   "cell_type": "markdown",
   "metadata": {},
   "source": [
    "# Ideations for Adventure Game\n",
    "\n",
    "There are some ideas that I have that could improve the game overall. These are some ideas I have:\n"
   ]
  },
  {
   "cell_type": "markdown",
   "metadata": {},
   "source": [
    "# Game speed\n",
    "\n",
    "The game movement and speed in the game right now is choppy and unreliabe, mostly because going left to right sometimes is faster than going up and down, and sometimes it swaps. I want to improve this by possibly improving the change in direction speed and setting set speeds for going up and down.\n"
   ]
  },
  {
   "cell_type": "code",
   "execution_count": null,
   "metadata": {
    "vscode": {
     "languageId": "javascript"
    }
   },
   "outputs": [],
   "source": [
    "handleKeyUp({ keyCode }) {\n",
    "        switch (keyCode) {\n",
    "            case this.keypress.up:\n",
    "                this.velocity.y = 0;\n",
    "                break;\n",
    "            case this.keypress.left:\n",
    "                this.velocity.x = 0;\n",
    "                break;\n",
    "            case this.keypress.down: \n",
    "                this.velocity.y = 0;\n",
    "                break;\n",
    "            case this.keypress.right: \n",
    "                this.velocity.x = 0;\n",
    "                break;\n",
    "        }\n",
    "    }"
   ]
  },
  {
   "cell_type": "markdown",
   "metadata": {},
   "source": [
    "# NPC interaction \n",
    "\n",
    "I want to add more NPCs and change the questions they ask. I also want to change the quiz questions and answers. because now its too basic of questions"
   ]
  }
 ],
 "metadata": {
  "language_info": {
   "name": "python"
  }
 },
 "nbformat": 4,
 "nbformat_minor": 2
}
