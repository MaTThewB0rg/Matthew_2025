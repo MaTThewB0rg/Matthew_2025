{
 "cells": [
  {
   "cell_type": "code",
   "execution_count": null,
   "metadata": {
    "vscode": {
     "languageId": "yaml"
    }
   },
   "outputs": [],
   "source": [
    "---\n",
    "layout: post\n",
    "title: Adventure Game Ideation\n",
    "description: Ideation for Adventure Game\n",
    "comments: true\n",
    "---"
   ]
  },
  {
   "cell_type": "markdown",
   "metadata": {},
   "source": [
    "# Ideations for Adventure Game\n",
    "\n",
    "There are some ideas that I have for my game that can improve the game which include movement changes and\n"
   ]
  }
 ],
 "metadata": {
  "language_info": {
   "name": "python"
  }
 },
 "nbformat": 4,
 "nbformat_minor": 2
}
